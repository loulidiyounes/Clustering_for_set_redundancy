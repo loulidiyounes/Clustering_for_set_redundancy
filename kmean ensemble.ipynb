{
 "cells": [
  {
   "cell_type": "code",
   "execution_count": 33,
   "id": "2cbfbdc2",
   "metadata": {},
   "outputs": [],
   "source": [
    "from sklearn import datasets\n",
    "import random as rd\n",
    "import pandas as pd\n",
    "import sklearn.cluster as sclust\n",
    "from scipy import cluster\n",
    "from sklearn.decomposition import PCA\n",
    "from scipy.cluster.hierarchy import dendrogram, linkage\n",
    "from sklearn.cluster import KMeans\n",
    "import seaborn as sns\n",
    "from sklearn.preprocessing import scale\n",
    "from matplotlib import colors\n",
    "import numpy as np\n",
    "import matplotlib.pyplot as plt\n",
    "from keras.datasets import mnist, cifar10\n",
    "import ssl\n",
    "ssl._create_default_https_context = ssl._create_unverified_context"
   ]
  },
  {
   "cell_type": "code",
   "execution_count": 34,
   "id": "796c580b",
   "metadata": {},
   "outputs": [],
   "source": [
    "(x_train, y_train), (x_test, y_test) = cifar10.load_data()"
   ]
  },
  {
   "cell_type": "code",
   "execution_count": 43,
   "id": "b2ea7405",
   "metadata": {},
   "outputs": [],
   "source": [
    "#modif format image mnist\n",
    "x_train = x_train.astype('float32')/255.\n",
    "x_test = x_test.astype('float32')/255.\n",
    "x_train = x_train.reshape((len(x_train), np.prod(x_train.shape[1:])))\n",
    "x_test = x_test.reshape((len(x_test), np.prod(x_test.shape[1:])))"
   ]
  },
  {
   "cell_type": "code",
   "execution_count": 45,
   "id": "6f3f6635",
   "metadata": {},
   "outputs": [
    {
     "data": {
      "text/plain": [
       "(10000, 3072)"
      ]
     },
     "execution_count": 45,
     "metadata": {},
     "output_type": "execute_result"
    }
   ],
   "source": [
    "xcut=x_train[:2000,:]\n",
    "x_test.shape"
   ]
  },
  {
   "cell_type": "code",
   "execution_count": 37,
   "id": "17ab08d9",
   "metadata": {},
   "outputs": [],
   "source": [
    "list_clusters=[]\n",
    "for i in range (50):\n",
    "    kmeans = KMeans(n_clusters=50, init='random', n_init=1) #sqrt(n)=K\n",
    "    list_clusters+= [kmeans.fit_predict(xcut)]"
   ]
  },
  {
   "cell_type": "code",
   "execution_count": 38,
   "id": "a3dcd57f",
   "metadata": {},
   "outputs": [],
   "source": [
    "def ass(clusters):\n",
    "    n=len(clusters[1])\n",
    "    matass=np.zeros((n,n))\n",
    "    for i in range(len(clusters)):\n",
    "        for k in range (n):\n",
    "            for j in range (k+1,n):\n",
    "                if clusters[i][k]==clusters[i][j]:\n",
    "                    matass[k,j]+=1\n",
    "                    matass[j,k]+=1\n",
    "                    \n",
    "    return matass"
   ]
  },
  {
   "cell_type": "code",
   "execution_count": 39,
   "id": "ede6dcdf",
   "metadata": {},
   "outputs": [],
   "source": [
    "mat_sim=ass(list_clusters)\n",
    "mat_dist=(-mat_sim)"
   ]
  },
  {
   "cell_type": "code",
   "execution_count": 40,
   "id": "926275f2",
   "metadata": {},
   "outputs": [],
   "source": [
    "from sklearn.cluster import AgglomerativeClustering\n",
    "\n",
    "ac = AgglomerativeClustering(n_clusters=15, affinity='precomputed',linkage='average')\n",
    "clusters = ac.fit_predict((mat_dist))"
   ]
  },
  {
   "cell_type": "code",
   "execution_count": 30,
   "id": "d635f8fa",
   "metadata": {},
   "outputs": [
    {
     "name": "stdout",
     "output_type": "stream",
     "text": [
      "[3 2 0 ... 3 6 9]\n"
     ]
    }
   ],
   "source": [
    "print(clusters)"
   ]
  },
  {
   "cell_type": "code",
   "execution_count": null,
   "id": "66ea1f9e",
   "metadata": {},
   "outputs": [],
   "source": []
  }
 ],
 "metadata": {
  "kernelspec": {
   "display_name": "Python 3",
   "language": "python",
   "name": "python3"
  },
  "language_info": {
   "codemirror_mode": {
    "name": "ipython",
    "version": 3
   },
   "file_extension": ".py",
   "mimetype": "text/x-python",
   "name": "python",
   "nbconvert_exporter": "python",
   "pygments_lexer": "ipython3",
   "version": "3.8.8"
  }
 },
 "nbformat": 4,
 "nbformat_minor": 5
}
