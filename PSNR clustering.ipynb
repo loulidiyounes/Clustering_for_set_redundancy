{
 "cells": [
  {
   "cell_type": "code",
   "execution_count": 1,
   "id": "9b17508b",
   "metadata": {},
   "outputs": [],
   "source": [
    "import numpy as np\n",
    "import matplotlib.pyplot as plt\n",
    "from sklearn.cluster import KMeans\n",
    "from sklearn.cluster import AgglomerativeClustering\n",
    "import seaborn as sns\n",
    "from keras.datasets import mnist, cifar10\n",
    "import ssl\n",
    "ssl._create_default_https_context = ssl._create_unverified_context"
   ]
  },
  {
   "cell_type": "code",
   "execution_count": 2,
   "id": "c6c1977b",
   "metadata": {},
   "outputs": [],
   "source": [
    "(x_train, y_train), (x_test, y_test) = cifar10.load_data()"
   ]
  },
  {
   "cell_type": "code",
   "execution_count": 3,
   "id": "0c7698c9",
   "metadata": {},
   "outputs": [],
   "source": [
    "def PSNR(I,Iref):\n",
    "    mse=np.mean((Iref-I)**2)\n",
    "    if mse==0:#MSE nul veut dire qu'il n'y a pas de bruit dans le signal donc psnr sans importance\n",
    "        return 100\n",
    "    max_pixel=255\n",
    "    psnr=int(np.exp((max_pixel/np.sqrt(mse)))/10**9)\n",
    "    return psnr"
   ]
  },
  {
   "cell_type": "code",
   "execution_count": 4,
   "id": "d3edd5d3",
   "metadata": {},
   "outputs": [],
   "source": [
    "def mat_sim(data):\n",
    "    n=len(data)\n",
    "    mat_psnr=np.zeros((n,n))\n",
    "    for i in range (n):\n",
    "        for j in range (i+1,n):\n",
    "            mat_psnr[i,j]=PSNR(x_train[j],x_train[i])\n",
    "            mat_psnr[j,i]=PSNR(x_train[j],x_train[i])\n",
    "    return mat_psnr"
   ]
  },
  {
   "cell_type": "code",
   "execution_count": 5,
   "id": "de1d7016",
   "metadata": {},
   "outputs": [],
   "source": [
    "xcut=x_train[:2000,:]"
   ]
  },
  {
   "cell_type": "code",
   "execution_count": 6,
   "id": "b4eebfed",
   "metadata": {},
   "outputs": [],
   "source": [
    "mat_dist=-(mat_sim(xcut))"
   ]
  },
  {
   "cell_type": "code",
   "execution_count": 7,
   "id": "0e878462",
   "metadata": {},
   "outputs": [],
   "source": [
    "ac = AgglomerativeClustering(n_clusters=15, affinity='precomputed',linkage='average')\n",
    "clusters = ac.fit_predict((mat_dist))"
   ]
  },
  {
   "cell_type": "code",
   "execution_count": 8,
   "id": "b514bfb0",
   "metadata": {},
   "outputs": [
    {
     "name": "stdout",
     "output_type": "stream",
     "text": [
      "[ 2 11  0 ...  3  9  1]\n"
     ]
    }
   ],
   "source": [
    "print(clusters)"
   ]
  },
  {
   "cell_type": "code",
   "execution_count": null,
   "id": "1fa102e3",
   "metadata": {},
   "outputs": [],
   "source": []
  }
 ],
 "metadata": {
  "kernelspec": {
   "display_name": "Python 3",
   "language": "python",
   "name": "python3"
  },
  "language_info": {
   "codemirror_mode": {
    "name": "ipython",
    "version": 3
   },
   "file_extension": ".py",
   "mimetype": "text/x-python",
   "name": "python",
   "nbconvert_exporter": "python",
   "pygments_lexer": "ipython3",
   "version": "3.8.8"
  }
 },
 "nbformat": 4,
 "nbformat_minor": 5
}
