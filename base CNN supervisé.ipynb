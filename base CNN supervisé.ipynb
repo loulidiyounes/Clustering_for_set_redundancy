{
 "cells": [
  {
   "cell_type": "code",
   "execution_count": 1,
   "id": "7dbfcc81",
   "metadata": {},
   "outputs": [],
   "source": [
    "import tensorflow as tf\n",
    "from tensorflow import keras\n",
    "import tensorflow_model_optimization as tfmot\n",
    "\n",
    "import numpy as np\n",
    "import tempfile\n",
    "import zipfile\n",
    "import os"
   ]
  },
  {
   "cell_type": "code",
   "execution_count": 2,
   "id": "8468b915",
   "metadata": {},
   "outputs": [],
   "source": [
    "mnist= keras.datasets.mnist\n",
    "(train_images, train_labels), (test_images, test_labels) = mnist.load_data()"
   ]
  },
  {
   "cell_type": "code",
   "execution_count": 3,
   "id": "db61663a",
   "metadata": {
    "scrolled": true
   },
   "outputs": [
    {
     "data": {
      "text/plain": [
       "(60000,)"
      ]
     },
     "execution_count": 3,
     "metadata": {},
     "output_type": "execute_result"
    }
   ],
   "source": [
    "train_labels.shape"
   ]
  },
  {
   "cell_type": "code",
   "execution_count": 4,
   "id": "0b6aa820",
   "metadata": {},
   "outputs": [],
   "source": [
    "# Normalize the input image so that each pixel value is between 0 to 1.\n",
    "train_images = train_images / 255.0\n",
    "test_images  = test_images / 255.0"
   ]
  },
  {
   "cell_type": "code",
   "execution_count": 5,
   "id": "c6d8d6ef",
   "metadata": {},
   "outputs": [],
   "source": [
    "model = keras.Sequential([\n",
    "    keras.layers.InputLayer(input_shape=(28, 28)),\n",
    "    keras.layers.Reshape(target_shape=(28, 28, 1)),\n",
    "    keras.layers.Conv2D(filters=12, kernel_size=(3, 3), activation=tf.nn.relu),\n",
    "    keras.layers.MaxPooling2D(pool_size=(2, 2)),\n",
    "    keras.layers.Flatten(),\n",
    "    keras.layers.Dense(10)\n",
    "])"
   ]
  },
  {
   "cell_type": "code",
   "execution_count": 6,
   "id": "3a140df9",
   "metadata": {},
   "outputs": [],
   "source": [
    "# Train the digit classification model\n",
    "model.compile(optimizer='adam',\n",
    "              loss=tf.keras.losses.SparseCategoricalCrossentropy(from_logits=True),\n",
    "              metrics=['accuracy'])"
   ]
  },
  {
   "cell_type": "code",
   "execution_count": 7,
   "id": "b57d95f6",
   "metadata": {
    "scrolled": true
   },
   "outputs": [
    {
     "name": "stdout",
     "output_type": "stream",
     "text": [
      "Epoch 1/10\n",
      "1688/1688 [==============================] - 10s 6ms/step - loss: 0.3100 - accuracy: 0.9114 - val_loss: 0.1262 - val_accuracy: 0.9668\n",
      "Epoch 2/10\n",
      "1688/1688 [==============================] - 9s 5ms/step - loss: 0.1257 - accuracy: 0.9647 - val_loss: 0.0839 - val_accuracy: 0.9783\n",
      "Epoch 3/10\n",
      "1688/1688 [==============================] - 9s 6ms/step - loss: 0.0884 - accuracy: 0.9740 - val_loss: 0.0739 - val_accuracy: 0.9797\n",
      "Epoch 4/10\n",
      "1688/1688 [==============================] - 9s 5ms/step - loss: 0.0721 - accuracy: 0.9784 - val_loss: 0.0664 - val_accuracy: 0.9807\n",
      "Epoch 5/10\n",
      "1688/1688 [==============================] - 9s 6ms/step - loss: 0.0623 - accuracy: 0.9817 - val_loss: 0.0672 - val_accuracy: 0.9820\n",
      "Epoch 6/10\n",
      "1688/1688 [==============================] - 9s 6ms/step - loss: 0.0552 - accuracy: 0.9831 - val_loss: 0.0588 - val_accuracy: 0.9852\n",
      "Epoch 7/10\n",
      "1688/1688 [==============================] - 9s 6ms/step - loss: 0.0505 - accuracy: 0.9846 - val_loss: 0.0587 - val_accuracy: 0.9832\n",
      "Epoch 8/10\n",
      "1688/1688 [==============================] - 9s 5ms/step - loss: 0.0460 - accuracy: 0.9859 - val_loss: 0.0595 - val_accuracy: 0.9828\n",
      "Epoch 9/10\n",
      "1688/1688 [==============================] - 9s 5ms/step - loss: 0.0417 - accuracy: 0.9875 - val_loss: 0.0604 - val_accuracy: 0.9838\n",
      "Epoch 10/10\n",
      "1688/1688 [==============================] - 9s 5ms/step - loss: 0.0389 - accuracy: 0.9879 - val_loss: 0.0614 - val_accuracy: 0.9838\n"
     ]
    },
    {
     "data": {
      "text/plain": [
       "<keras.callbacks.History at 0x19c4a581190>"
      ]
     },
     "execution_count": 7,
     "metadata": {},
     "output_type": "execute_result"
    }
   ],
   "source": [
    "model.fit(\n",
    "    train_images,\n",
    "    train_labels,\n",
    "    validation_split=0.1,\n",
    "    epochs=10\n",
    ")"
   ]
  },
  {
   "cell_type": "code",
   "execution_count": 8,
   "id": "5d9114ee",
   "metadata": {},
   "outputs": [],
   "source": [
    "_,baseline_model_accuracy = model.evaluate(test_images, test_labels, verbose=0)"
   ]
  },
  {
   "cell_type": "code",
   "execution_count": 9,
   "id": "f3d6be40",
   "metadata": {},
   "outputs": [
    {
     "name": "stdout",
     "output_type": "stream",
     "text": [
      "0.9817000031471252\n"
     ]
    }
   ],
   "source": [
    "print(baseline_model_accuracy)"
   ]
  },
  {
   "cell_type": "code",
   "execution_count": 10,
   "id": "05c21b0b",
   "metadata": {
    "scrolled": true
   },
   "outputs": [],
   "source": [
    "#_,keras_file = tempfile.mkstemp('.h5')\n",
    "#print('Saving model to: ', keras_file)\n",
    "#tf.keras.models.save_model(model, keras_file, include_optimizer=False)"
   ]
  },
  {
   "cell_type": "code",
   "execution_count": 11,
   "id": "64eda1e1",
   "metadata": {},
   "outputs": [],
   "source": [
    "cluster_weights = tfmot.clustering.keras.cluster_weights\n",
    "CentroidInitialization = tfmot.clustering.keras.CentroidInitialization\n",
    "\n",
    "clustering_params = {\n",
    "  'number_of_clusters': 16,\n",
    "  'cluster_centroids_init': CentroidInitialization.LINEAR\n",
    "}\n",
    "\n",
    "# Cluster a whole model\n",
    "clustered_model = cluster_weights(model, **clustering_params)"
   ]
  },
  {
   "cell_type": "code",
   "execution_count": 12,
   "id": "99a5dcff",
   "metadata": {},
   "outputs": [
    {
     "name": "stdout",
     "output_type": "stream",
     "text": [
      "Model: \"sequential\"\n",
      "_________________________________________________________________\n",
      " Layer (type)                Output Shape              Param #   \n",
      "=================================================================\n",
      " cluster_reshape (ClusterWei  (None, 28, 28, 1)        0         \n",
      " ghts)                                                           \n",
      "                                                                 \n",
      " cluster_conv2d (ClusterWeig  (None, 26, 26, 12)       244       \n",
      " hts)                                                            \n",
      "                                                                 \n",
      " cluster_max_pooling2d (Clus  (None, 13, 13, 12)       0         \n",
      " terWeights)                                                     \n",
      "                                                                 \n",
      " cluster_flatten (ClusterWei  (None, 2028)             0         \n",
      " ghts)                                                           \n",
      "                                                                 \n",
      " cluster_dense (ClusterWeigh  (None, 10)               40586     \n",
      " ts)                                                             \n",
      "                                                                 \n",
      "=================================================================\n",
      "Total params: 40,830\n",
      "Trainable params: 20,442\n",
      "Non-trainable params: 20,388\n",
      "_________________________________________________________________\n"
     ]
    }
   ],
   "source": [
    "clustered_model.summary()"
   ]
  },
  {
   "cell_type": "code",
   "execution_count": 13,
   "id": "ba2c98c1",
   "metadata": {},
   "outputs": [],
   "source": [
    "# Use smaller learning rate for fine-tuning clustered model\n",
    "opt = tf.keras.optimizers.Adam(learning_rate=1e-5)\n",
    "\n",
    "clustered_model.compile(\n",
    "  loss=tf.keras.losses.SparseCategoricalCrossentropy(from_logits=True),\n",
    "  optimizer=opt,\n",
    "  metrics=['accuracy'])"
   ]
  },
  {
   "cell_type": "code",
   "execution_count": 14,
   "id": "b1f88845",
   "metadata": {},
   "outputs": [
    {
     "name": "stdout",
     "output_type": "stream",
     "text": [
      "Model: \"sequential\"\n",
      "_________________________________________________________________\n",
      " Layer (type)                Output Shape              Param #   \n",
      "=================================================================\n",
      " cluster_reshape (ClusterWei  (None, 28, 28, 1)        0         \n",
      " ghts)                                                           \n",
      "                                                                 \n",
      " cluster_conv2d (ClusterWeig  (None, 26, 26, 12)       244       \n",
      " hts)                                                            \n",
      "                                                                 \n",
      " cluster_max_pooling2d (Clus  (None, 13, 13, 12)       0         \n",
      " terWeights)                                                     \n",
      "                                                                 \n",
      " cluster_flatten (ClusterWei  (None, 2028)             0         \n",
      " ghts)                                                           \n",
      "                                                                 \n",
      " cluster_dense (ClusterWeigh  (None, 10)               40586     \n",
      " ts)                                                             \n",
      "                                                                 \n",
      "=================================================================\n",
      "Total params: 40,830\n",
      "Trainable params: 20,442\n",
      "Non-trainable params: 20,388\n",
      "_________________________________________________________________\n"
     ]
    }
   ],
   "source": [
    "clustered_model.summary()"
   ]
  },
  {
   "cell_type": "code",
   "execution_count": 16,
   "id": "11a7a979",
   "metadata": {},
   "outputs": [
    {
     "name": "stdout",
     "output_type": "stream",
     "text": [
      "Epoch 1/10\n",
      "108/108 [==============================] - 4s 36ms/step - loss: 0.0503 - accuracy: 0.9834 - val_loss: 0.0734 - val_accuracy: 0.9795\n",
      "Epoch 2/10\n",
      "108/108 [==============================] - 4s 35ms/step - loss: 0.0453 - accuracy: 0.9856 - val_loss: 0.0690 - val_accuracy: 0.9805\n",
      "Epoch 3/10\n",
      "108/108 [==============================] - 4s 35ms/step - loss: 0.0414 - accuracy: 0.9874 - val_loss: 0.0657 - val_accuracy: 0.9818\n",
      "Epoch 4/10\n",
      "108/108 [==============================] - 4s 35ms/step - loss: 0.0390 - accuracy: 0.9881 - val_loss: 0.0640 - val_accuracy: 0.9825\n",
      "Epoch 5/10\n",
      "108/108 [==============================] - 4s 36ms/step - loss: 0.0376 - accuracy: 0.9886 - val_loss: 0.0631 - val_accuracy: 0.9830\n",
      "Epoch 6/10\n",
      "108/108 [==============================] - 4s 37ms/step - loss: 0.0356 - accuracy: 0.9891 - val_loss: 0.0617 - val_accuracy: 0.9827\n",
      "Epoch 7/10\n",
      "108/108 [==============================] - 4s 35ms/step - loss: 0.0347 - accuracy: 0.9894 - val_loss: 0.0608 - val_accuracy: 0.9825\n",
      "Epoch 8/10\n",
      "108/108 [==============================] - 4s 36ms/step - loss: 0.0339 - accuracy: 0.9896 - val_loss: 0.0603 - val_accuracy: 0.9825\n",
      "Epoch 9/10\n",
      "108/108 [==============================] - 4s 35ms/step - loss: 0.0334 - accuracy: 0.9898 - val_loss: 0.0587 - val_accuracy: 0.9835\n",
      "Epoch 10/10\n",
      "108/108 [==============================] - 4s 37ms/step - loss: 0.0330 - accuracy: 0.9899 - val_loss: 0.0586 - val_accuracy: 0.9840\n"
     ]
    },
    {
     "data": {
      "text/plain": [
       "<keras.callbacks.History at 0x19c4beb6670>"
      ]
     },
     "execution_count": 16,
     "metadata": {},
     "output_type": "execute_result"
    }
   ],
   "source": [
    "# Fine-tune model\n",
    "clustered_model.fit(\n",
    "  train_images,\n",
    "  train_labels,\n",
    "  batch_size=500,\n",
    "  epochs=10,\n",
    "  validation_split=0.1)"
   ]
  },
  {
   "cell_type": "code",
   "execution_count": 17,
   "id": "e8b464bf",
   "metadata": {},
   "outputs": [
    {
     "name": "stdout",
     "output_type": "stream",
     "text": [
      "0.9817000031471252\n",
      "0.9811999797821045\n"
     ]
    }
   ],
   "source": [
    "_, clustered_model_accuracy = clustered_model.evaluate(\n",
    "  test_images, test_labels, verbose=0)\n",
    "\n",
    "print(baseline_model_accuracy)\n",
    "print(clustered_model_accuracy)"
   ]
  },
  {
   "cell_type": "code",
   "execution_count": 18,
   "id": "9827bc6c",
   "metadata": {},
   "outputs": [
    {
     "name": "stdout",
     "output_type": "stream",
     "text": [
      "Saving clustered model to:  C:\\Users\\alexa\\AppData\\Local\\Temp\\tmpk32ujy6s.h5\n",
      "WARNING:tensorflow:Compiled the loaded model, but the compiled metrics have yet to be built. `model.compile_metrics` will be empty until you train or evaluate the model.\n"
     ]
    }
   ],
   "source": [
    "final_model = tfmot.clustering.keras.strip_clustering(clustered_model)\n",
    "\n",
    "_, clustered_keras_file = tempfile.mkstemp('.h5')\n",
    "print('Saving clustered model to: ', clustered_keras_file)\n",
    "tf.keras.models.save_model(final_model, clustered_keras_file, \n",
    "                           include_optimizer=False)"
   ]
  },
  {
   "cell_type": "code",
   "execution_count": 19,
   "id": "e6893441",
   "metadata": {},
   "outputs": [
    {
     "name": "stderr",
     "output_type": "stream",
     "text": [
      "WARNING:absl:Found untraced functions such as _jit_compiled_convolution_op while saving (showing 1 of 1). These functions will not be directly callable after loading.\n"
     ]
    },
    {
     "name": "stdout",
     "output_type": "stream",
     "text": [
      "INFO:tensorflow:Assets written to: C:\\Users\\alexa\\AppData\\Local\\Temp\\tmpj2vseuk5\\assets\n"
     ]
    },
    {
     "name": "stderr",
     "output_type": "stream",
     "text": [
      "INFO:tensorflow:Assets written to: C:\\Users\\alexa\\AppData\\Local\\Temp\\tmpj2vseuk5\\assets\n",
      "WARNING:absl:Buffer deduplication procedure will be skipped when flatbuffer library is not properly loaded\n"
     ]
    },
    {
     "ename": "FileNotFoundError",
     "evalue": "[Errno 2] No such file or directory: '/tmp/clustered_mnist.tflite'",
     "output_type": "error",
     "traceback": [
      "\u001b[1;31m---------------------------------------------------------------------------\u001b[0m",
      "\u001b[1;31mFileNotFoundError\u001b[0m                         Traceback (most recent call last)",
      "\u001b[1;32m<ipython-input-19-01035994e382>\u001b[0m in \u001b[0;36m<module>\u001b[1;34m\u001b[0m\n\u001b[0;32m      2\u001b[0m \u001b[0mconverter\u001b[0m \u001b[1;33m=\u001b[0m \u001b[0mtf\u001b[0m\u001b[1;33m.\u001b[0m\u001b[0mlite\u001b[0m\u001b[1;33m.\u001b[0m\u001b[0mTFLiteConverter\u001b[0m\u001b[1;33m.\u001b[0m\u001b[0mfrom_keras_model\u001b[0m\u001b[1;33m(\u001b[0m\u001b[0mfinal_model\u001b[0m\u001b[1;33m)\u001b[0m\u001b[1;33m\u001b[0m\u001b[1;33m\u001b[0m\u001b[0m\n\u001b[0;32m      3\u001b[0m \u001b[0mtflite_clustered_model\u001b[0m \u001b[1;33m=\u001b[0m \u001b[0mconverter\u001b[0m\u001b[1;33m.\u001b[0m\u001b[0mconvert\u001b[0m\u001b[1;33m(\u001b[0m\u001b[1;33m)\u001b[0m\u001b[1;33m\u001b[0m\u001b[1;33m\u001b[0m\u001b[0m\n\u001b[1;32m----> 4\u001b[1;33m \u001b[1;32mwith\u001b[0m \u001b[0mopen\u001b[0m\u001b[1;33m(\u001b[0m\u001b[0mclustered_tflite_file\u001b[0m\u001b[1;33m,\u001b[0m \u001b[1;34m'wb'\u001b[0m\u001b[1;33m)\u001b[0m \u001b[1;32mas\u001b[0m \u001b[0mf\u001b[0m\u001b[1;33m:\u001b[0m\u001b[1;33m\u001b[0m\u001b[1;33m\u001b[0m\u001b[0m\n\u001b[0m\u001b[0;32m      5\u001b[0m   \u001b[0mf\u001b[0m\u001b[1;33m.\u001b[0m\u001b[0mwrite\u001b[0m\u001b[1;33m(\u001b[0m\u001b[0mtflite_clustered_model\u001b[0m\u001b[1;33m)\u001b[0m\u001b[1;33m\u001b[0m\u001b[1;33m\u001b[0m\u001b[0m\n\u001b[0;32m      6\u001b[0m \u001b[0mprint\u001b[0m\u001b[1;33m(\u001b[0m\u001b[1;34m'Saved clustered TFLite model to:'\u001b[0m\u001b[1;33m,\u001b[0m \u001b[0mclustered_tflite_file\u001b[0m\u001b[1;33m)\u001b[0m\u001b[1;33m\u001b[0m\u001b[1;33m\u001b[0m\u001b[0m\n",
      "\u001b[1;31mFileNotFoundError\u001b[0m: [Errno 2] No such file or directory: '/tmp/clustered_mnist.tflite'"
     ]
    }
   ],
   "source": []
  },
  {
   "cell_type": "code",
   "execution_count": null,
   "id": "7e61a111",
   "metadata": {},
   "outputs": [],
   "source": []
  }
 ],
 "metadata": {
  "kernelspec": {
   "display_name": "Python 3",
   "language": "python",
   "name": "python3"
  },
  "language_info": {
   "codemirror_mode": {
    "name": "ipython",
    "version": 3
   },
   "file_extension": ".py",
   "mimetype": "text/x-python",
   "name": "python",
   "nbconvert_exporter": "python",
   "pygments_lexer": "ipython3",
   "version": "3.8.8"
  }
 },
 "nbformat": 4,
 "nbformat_minor": 5
}
